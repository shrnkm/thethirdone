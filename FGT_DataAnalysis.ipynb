{
 "cells": [
  {
   "cell_type": "markdown",
   "metadata": {},
   "source": [
    "## Group 1: Week 12"
   ]
  },
  {
   "cell_type": "markdown",
   "metadata": {},
   "source": [
    "# 'Game of Thrones' Story Through a Data Science Narrative"
   ]
  },
  {
   "cell_type": "markdown",
   "metadata": {},
   "source": [
    "****"
   ]
  },
  {
   "cell_type": "code",
   "execution_count": 1,
   "metadata": {},
   "outputs": [],
   "source": [
    "# import required libraries\n",
    "import os\n",
    "import csv\n",
    "import pandas as pd\n",
    "import seaborn as sns\n",
    "import matplotlib.pyplot as plt\n",
    "import numpy as np\n"
   ]
  },
  {
   "cell_type": "markdown",
   "metadata": {},
   "source": [
    "### Load Data"
   ]
  },
  {
   "cell_type": "code",
   "execution_count": 2,
   "metadata": {},
   "outputs": [
    {
     "data": {
      "text/html": [
       "<div>\n",
       "<style scoped>\n",
       "    .dataframe tbody tr th:only-of-type {\n",
       "        vertical-align: middle;\n",
       "    }\n",
       "\n",
       "    .dataframe tbody tr th {\n",
       "        vertical-align: top;\n",
       "    }\n",
       "\n",
       "    .dataframe thead th {\n",
       "        text-align: right;\n",
       "    }\n",
       "</style>\n",
       "<table border=\"1\" class=\"dataframe\">\n",
       "  <thead>\n",
       "    <tr style=\"text-align: right;\">\n",
       "      <th></th>\n",
       "      <th>Name</th>\n",
       "      <th>Allegiances</th>\n",
       "      <th>Death Year</th>\n",
       "      <th>Book of Death</th>\n",
       "      <th>Death Chapter</th>\n",
       "      <th>Book Intro Chapter</th>\n",
       "      <th>Gender</th>\n",
       "      <th>Nobility</th>\n",
       "      <th>GoT</th>\n",
       "      <th>CoK</th>\n",
       "      <th>SoS</th>\n",
       "      <th>FfC</th>\n",
       "      <th>DwD</th>\n",
       "    </tr>\n",
       "  </thead>\n",
       "  <tbody>\n",
       "    <tr>\n",
       "      <th>0</th>\n",
       "      <td>Addam Marbrand</td>\n",
       "      <td>Lannister</td>\n",
       "      <td>NaN</td>\n",
       "      <td>NaN</td>\n",
       "      <td>NaN</td>\n",
       "      <td>56.0</td>\n",
       "      <td>1</td>\n",
       "      <td>1</td>\n",
       "      <td>1</td>\n",
       "      <td>1</td>\n",
       "      <td>1</td>\n",
       "      <td>1</td>\n",
       "      <td>0</td>\n",
       "    </tr>\n",
       "    <tr>\n",
       "      <th>1</th>\n",
       "      <td>Aegon Frey (Jinglebell)</td>\n",
       "      <td>None</td>\n",
       "      <td>299.0</td>\n",
       "      <td>3.0</td>\n",
       "      <td>51.0</td>\n",
       "      <td>49.0</td>\n",
       "      <td>1</td>\n",
       "      <td>1</td>\n",
       "      <td>0</td>\n",
       "      <td>0</td>\n",
       "      <td>1</td>\n",
       "      <td>0</td>\n",
       "      <td>0</td>\n",
       "    </tr>\n",
       "    <tr>\n",
       "      <th>2</th>\n",
       "      <td>Aegon Targaryen</td>\n",
       "      <td>House Targaryen</td>\n",
       "      <td>NaN</td>\n",
       "      <td>NaN</td>\n",
       "      <td>NaN</td>\n",
       "      <td>5.0</td>\n",
       "      <td>1</td>\n",
       "      <td>1</td>\n",
       "      <td>0</td>\n",
       "      <td>0</td>\n",
       "      <td>0</td>\n",
       "      <td>0</td>\n",
       "      <td>1</td>\n",
       "    </tr>\n",
       "    <tr>\n",
       "      <th>3</th>\n",
       "      <td>Adrack Humble</td>\n",
       "      <td>House Greyjoy</td>\n",
       "      <td>300.0</td>\n",
       "      <td>5.0</td>\n",
       "      <td>20.0</td>\n",
       "      <td>20.0</td>\n",
       "      <td>1</td>\n",
       "      <td>1</td>\n",
       "      <td>0</td>\n",
       "      <td>0</td>\n",
       "      <td>0</td>\n",
       "      <td>0</td>\n",
       "      <td>1</td>\n",
       "    </tr>\n",
       "    <tr>\n",
       "      <th>4</th>\n",
       "      <td>Aemon Costayne</td>\n",
       "      <td>Lannister</td>\n",
       "      <td>NaN</td>\n",
       "      <td>NaN</td>\n",
       "      <td>NaN</td>\n",
       "      <td>NaN</td>\n",
       "      <td>1</td>\n",
       "      <td>1</td>\n",
       "      <td>0</td>\n",
       "      <td>0</td>\n",
       "      <td>1</td>\n",
       "      <td>0</td>\n",
       "      <td>0</td>\n",
       "    </tr>\n",
       "  </tbody>\n",
       "</table>\n",
       "</div>"
      ],
      "text/plain": [
       "                      Name      Allegiances  Death Year  Book of Death  \\\n",
       "0           Addam Marbrand        Lannister         NaN            NaN   \n",
       "1  Aegon Frey (Jinglebell)             None       299.0            3.0   \n",
       "2          Aegon Targaryen  House Targaryen         NaN            NaN   \n",
       "3            Adrack Humble    House Greyjoy       300.0            5.0   \n",
       "4           Aemon Costayne        Lannister         NaN            NaN   \n",
       "\n",
       "   Death Chapter  Book Intro Chapter  Gender  Nobility  GoT  CoK  SoS  FfC  \\\n",
       "0            NaN                56.0       1         1    1    1    1    1   \n",
       "1           51.0                49.0       1         1    0    0    1    0   \n",
       "2            NaN                 5.0       1         1    0    0    0    0   \n",
       "3           20.0                20.0       1         1    0    0    0    0   \n",
       "4            NaN                 NaN       1         1    0    0    1    0   \n",
       "\n",
       "   DwD  \n",
       "0    0  \n",
       "1    0  \n",
       "2    1  \n",
       "3    1  \n",
       "4    0  "
      ]
     },
     "execution_count": 2,
     "metadata": {},
     "output_type": "execute_result"
    }
   ],
   "source": [
    "# set the path to the data files directory\n",
    "home = os.getcwd()\n",
    "the_path = home + '/Data/'\n",
    "\n",
    "# read the csv files into dataframes\n",
    "data_list = ['battles', 'deaths', 'predictions']\n",
    "\n",
    "for data in data_list:\n",
    "    file_path = the_path + str(data) + '.csv'\n",
    "    the_code = str(data) + ' = pd.read_csv(file_path)'\n",
    "    exec(the_code)\n",
    "\n",
    "deaths.head()"
   ]
  },
  {
   "cell_type": "markdown",
   "metadata": {},
   "source": [
    "### Review the Battles"
   ]
  },
  {
   "cell_type": "code",
   "execution_count": 38,
   "metadata": {},
   "outputs": [
    {
     "ename": "AttributeError",
     "evalue": "'AxesSubplot' object has no attribute 'gca'",
     "output_type": "error",
     "traceback": [
      "\u001b[0;31m---------------------------------------------------------------------------\u001b[0m",
      "\u001b[0;31mAttributeError\u001b[0m                            Traceback (most recent call last)",
      "\u001b[0;32m<ipython-input-38-8bd105a7581f>\u001b[0m in \u001b[0;36m<module>\u001b[0;34m()\u001b[0m\n\u001b[1;32m     39\u001b[0m             frameon=True, framealpha=0.9, loc=4, numpoints=1)\n\u001b[1;32m     40\u001b[0m \u001b[0;34m\u001b[0m\u001b[0m\n\u001b[0;32m---> 41\u001b[0;31m \u001b[0maxes\u001b[0m\u001b[0;34m[\u001b[0m\u001b[0;36m0\u001b[0m\u001b[0;34m,\u001b[0m\u001b[0;36m0\u001b[0m\u001b[0;34m]\u001b[0m\u001b[0;34m.\u001b[0m\u001b[0mgca\u001b[0m\u001b[0;34m(\u001b[0m\u001b[0;34m)\u001b[0m\u001b[0;34m.\u001b[0m\u001b[0madd_artist\u001b[0m\u001b[0;34m(\u001b[0m\u001b[0mlgnd1\u001b[0m\u001b[0;34m)\u001b[0m\u001b[0;34m\u001b[0m\u001b[0m\n\u001b[0m\u001b[1;32m     42\u001b[0m \u001b[0maxes\u001b[0m\u001b[0;34m[\u001b[0m\u001b[0;36m0\u001b[0m\u001b[0;34m,\u001b[0m\u001b[0;36m0\u001b[0m\u001b[0;34m]\u001b[0m\u001b[0;34m.\u001b[0m\u001b[0mset_xlabel\u001b[0m\u001b[0;34m(\u001b[0m\u001b[0;34m'Attack Force Size (1000 Persons)'\u001b[0m\u001b[0;34m,\u001b[0m \u001b[0mlabelpad\u001b[0m\u001b[0;34m=\u001b[0m\u001b[0;36m14\u001b[0m\u001b[0;34m)\u001b[0m\u001b[0;34m\u001b[0m\u001b[0m\n\u001b[1;32m     43\u001b[0m \u001b[0maxes\u001b[0m\u001b[0;34m[\u001b[0m\u001b[0;36m0\u001b[0m\u001b[0;34m,\u001b[0m\u001b[0;36m0\u001b[0m\u001b[0;34m]\u001b[0m\u001b[0;34m.\u001b[0m\u001b[0mset_ylabel\u001b[0m\u001b[0;34m(\u001b[0m\u001b[0;34m'Defend Force Size (1000 Persons)'\u001b[0m\u001b[0;34m)\u001b[0m\u001b[0;34m\u001b[0m\u001b[0m\n",
      "\u001b[0;31mAttributeError\u001b[0m: 'AxesSubplot' object has no attribute 'gca'"
     ]
    },
    {
     "data": {
      "image/png": "[encoded data removed]",
      "text/plain": [
       "<Figure size 1152x1152 with 4 Axes>"
      ]
     },
     "metadata": {},
     "output_type": "display_data"
    }
   ],
   "source": [
    "# set the space for 4 plots\n",
    "figs, axes = plt.subplots(nrows=2, ncols=2, figsize=(16,16))\n",
    "\n",
    "# ----------------------------------------------------------------------\n",
    "# Upper Left Plot\n",
    "# compare the ratio of attack to defend force sizes\n",
    "# ----------------------------------------------------------------------\n",
    "# clean and preprocess battles data regarding the attacker/defender force sizes\n",
    "# and also the outcome for the attacker\n",
    "battles_pre = battles.copy()\n",
    "battles_pre = battles_pre.dropna(subset=['attacker_size', 'defender_size'])\n",
    "battles_pre.attacker_outcome.replace(['win', 'loss'], [3, 1], inplace=True)\n",
    "\n",
    "# normalize the force sizes\n",
    "battles_pre['attacker_size'] = battles_pre['attacker_size'].div(1000)\n",
    "battles_pre['defender_size'] = battles_pre['defender_size'].div(1000)\n",
    "\n",
    "# draw the plot\n",
    "sns.scatterplot(data=battles_pre, x='defender_size', y='attacker_size', hue='attacker_king',\n",
    "                s=20*battles_pre['attacker_outcome'], ax=axes[0,0],\n",
    "                palette = ('#00AFBB', '#E7B800', '#FC4E07'))\n",
    "\n",
    "# draw the equality line\n",
    "x = np.arange(min(battles_pre.attacker_size.max(), battles_pre.defender_size.max()))\n",
    "axes[0,0].plot(x, x, ':', color='black', alpha=.5)\n",
    "axes[0,0].annotate('Line of Equal Forces', xy=(15, 17), xytext=(15, 25), arrowprops=dict())\n",
    "\n",
    "# set the labels and the legend\n",
    "lgnd1 = axes[0,0].legend()\n",
    "lgnd1.texts[0].set_text('The Attacker King')\n",
    "\n",
    "\n",
    "pws = (pd.cut(battles_pre['attacker_outcome'], bins=4, retbins=True)[1]).round(0)\n",
    "for pw in pws:\n",
    "    axes[0,0].scatter([], [], s=(pw**2)/2e4, c=\"k\",label=str(pw))\n",
    "    \n",
    "h, l = plt.gca().get_legend_handles_labels()\n",
    "plt.legend(h[5:], l[5:], labelspacing=1.2, title=\"popdensity\", borderpad=1, \n",
    "            frameon=True, framealpha=0.9, loc=4, numpoints=1)\n",
    "\n",
    "axes[0,0].gca().add_artist(lgnd1)\n",
    "axes[0,0].set_xlabel('Attack Force Size (1000 Persons)', labelpad=14)\n",
    "axes[0,0].set_ylabel('Defend Force Size (1000 Persons)')\n",
    "\n",
    "\n",
    "# ----------------------------------------------------------------------\n",
    "# Upper Right Plot\n",
    "# compare the ratio of win to attack for the kings\n",
    "# ----------------------------------------------------------------------\n",
    "# preprocess the battles data regarding the number of attacks per kings\n",
    "# and the attacks' outcomes\n",
    "battles_pre = battles.copy()\n",
    "battles_pre = battles_pre.groupby(['attacker_king', 'attacker_outcome']) \\\n",
    "                                  ['attacker_king'].count().reset_index(name='attacks')\n",
    "\n",
    "# draw the plot    \n",
    "sns.catplot(x='attacker_king', y='attacks', hue='attacker_outcome', ax=axes[0,1],\n",
    "            kind='bar', data=battles_pre, palette = ('#FC4E07', '#E7B800'), ci=None);\n",
    "\n",
    "# set the labels and the legend\n",
    "legend2 = axes[0,1].legend()\n",
    "legend2.texts[0].set_text('The Attacker Outcome')\n",
    "axes[0,1].set_xlabel('The Attacker King', labelpad=14)\n",
    "axes[0,1].set_ylabel('Battles (#)');\n",
    "\n",
    "\n",
    "\n",
    "# ----------------------------------------------------------------------\n",
    "# Lower Left Plot\n",
    "# compare the number of major casualties among different types of battle\n",
    "# ----------------------------------------------------------------------\n",
    "battles_pre = battles.copy()\n",
    "battles_pre = battles_pre.groupby(['battle_type'])['major_death','major_capture'].sum().reset_index()\n",
    "\n",
    "sns.lineplot(x='battle_type', y='major_death', ax=axes[1,0], markers=True, dashes=False, data=battles_pre)\n",
    "sns.lineplot(x='battle_type', y='major_capture', ax=axes[1,0], markers=True, dashes=False, data=battles_pre)\n",
    "#hue='major_capture', style=\"event\",\n",
    "plt.show()"
   ]
  },
  {
   "cell_type": "markdown",
   "metadata": {},
   "source": [
    "### Upper Left Plot\n",
    "Robb Stark used to attack with a smaller-size army, comparing with the enemy.\n",
    "\n"
   ]
  },
  {
   "cell_type": "markdown",
   "metadata": {},
   "source": [
    "# deaths\n",
    "\n",
    "death rate ragarding gender\n",
    "death rate regarding nobility\n",
    "death rate regarding book\n",
    "death rate regarding Allegiances"
   ]
  },
  {
   "cell_type": "markdown",
   "metadata": {},
   "source": [
    "#### Predictions\n",
    "\n",
    "checking the rate successful predictions.\n",
    "check the death rate title.\n",
    "check meaningful correlations between dead and alive characters. "
   ]
  }
 ],
 "metadata": {
  "kernelspec": {
   "display_name": "Python 3",
   "language": "python",
   "name": "python3"
  },
  "language_info": {
   "codemirror_mode": {
    "name": "ipython",
    "version": 3
   },
   "file_extension": ".py",
   "mimetype": "text/x-python",
   "name": "python",
   "nbconvert_exporter": "python",
   "pygments_lexer": "ipython3",
   "version": "3.6.3"
  }
 },
 "nbformat": 4,
 "nbformat_minor": 2
}
